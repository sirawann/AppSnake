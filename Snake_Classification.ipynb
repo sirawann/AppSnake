{
  "nbformat": 4,
  "nbformat_minor": 0,
  "metadata": {
    "colab": {
      "provenance": [],
      "machine_shape": "hm",
      "include_colab_link": true
    },
    "kernelspec": {
      "name": "python3",
      "display_name": "Python 3"
    },
    "accelerator": "GPU"
  },
  "cells": [
    {
      "cell_type": "markdown",
      "metadata": {
        "id": "view-in-github",
        "colab_type": "text"
      },
      "source": [
        "<a href=\"https://colab.research.google.com/github/sirawann/AppSnake/blob/master/Snake_Classification.ipynb\" target=\"_parent\"><img src=\"https://colab.research.google.com/assets/colab-badge.svg\" alt=\"Open In Colab\"/></a>"
      ]
    },
    {
      "cell_type": "markdown",
      "metadata": {
        "id": "1mIwTYFprNsR"
      },
      "source": [
        "Download modules"
      ]
    },
    {
      "cell_type": "code",
      "metadata": {
        "id": "3NFfovZxN9Ar"
      },
      "source": [
        "from keras.applications.inception_v3 import InceptionV3\n",
        "from keras.preprocessing import image\n",
        "from keras.models import Model, load_model\n",
        "from keras.callbacks import ModelCheckpoint, ReduceLROnPlateau\n",
        "from keras.layers import Dense, GlobalAveragePooling2D, Dropout\n",
        "from keras.layers import BatchNormalization, Activation\n",
        "from keras.optimizers import Adam, RMSprop\n",
        "from keras.preprocessing.image import ImageDataGenerator\n",
        "import numpy as np\n",
        "import matplotlib.pyplot as plt\n",
        "import tensorflow as tf\n",
        "from numpy import loadtxt\n",
        "import keras\n",
        "import tensorflow as tf\n",
        "from PIL import Image, ImageOps\n",
        "%matplotlib inline"
      ],
      "execution_count": null,
      "outputs": []
    },
    {
      "cell_type": "code",
      "source": [
        "''' !wget https://bitbucket.org/gnotsfw/snake/raw/0c0a5df03a4f6b2d086b443d21202c34edb9194c/images.zip '''"
      ],
      "metadata": {
        "id": "VU71oh4HdsEh",
        "colab": {
          "base_uri": "https://localhost:8080/",
          "height": 35
        },
        "outputId": "ba53e4b2-bef6-43e9-87dc-6678404ce068"
      },
      "execution_count": null,
      "outputs": [
        {
          "output_type": "execute_result",
          "data": {
            "text/plain": [
              "' !wget https://bitbucket.org/gnotsfw/snake/raw/0c0a5df03a4f6b2d086b443d21202c34edb9194c/images.zip '"
            ],
            "application/vnd.google.colaboratory.intrinsic+json": {
              "type": "string"
            }
          },
          "metadata": {},
          "execution_count": 2
        }
      ]
    },
    {
      "cell_type": "code",
      "source": [
        "!wget https://bitbucket.org/gnotsfw/tong/raw/d831f5fb831004325b8dbc99b6870ec56dff7139/datasnake.zip"
      ],
      "metadata": {
        "colab": {
          "base_uri": "https://localhost:8080/"
        },
        "id": "KFjUORigSKqO",
        "outputId": "8edd70a8-afe1-4f75-9005-38029ef71f9e"
      },
      "execution_count": null,
      "outputs": [
        {
          "output_type": "stream",
          "name": "stdout",
          "text": [
            "--2023-06-03 06:50:25--  https://bitbucket.org/gnotsfw/tong/raw/d831f5fb831004325b8dbc99b6870ec56dff7139/datasnake.zip\n",
            "Resolving bitbucket.org (bitbucket.org)... 18.205.93.0, 18.205.93.1, 18.205.93.2, ...\n",
            "Connecting to bitbucket.org (bitbucket.org)|18.205.93.0|:443... connected.\n",
            "HTTP request sent, awaiting response... 200 OK\n",
            "Length: 1029816995 (982M) [application/zip]\n",
            "Saving to: ‘datasnake.zip’\n",
            "\n",
            "datasnake.zip       100%[===================>] 982.11M   146MB/s    in 8.2s    \n",
            "\n",
            "2023-06-03 06:50:55 (120 MB/s) - ‘datasnake.zip’ saved [1029816995/1029816995]\n",
            "\n"
          ]
        }
      ]
    },
    {
      "cell_type": "code",
      "source": [
        "!unzip --qq datasnake.zip"
      ],
      "metadata": {
        "id": "KwVXcKS4STbv"
      },
      "execution_count": null,
      "outputs": []
    },
    {
      "cell_type": "code",
      "metadata": {
        "id": "EVeEdtpWraWm"
      },
      "source": [
        "image_size = 224\n",
        "batch_size = 32"
      ],
      "execution_count": null,
      "outputs": []
    },
    {
      "cell_type": "code",
      "metadata": {
        "id": "ua6InEjAs5FE"
      },
      "source": [
        "\n",
        "train_dir = '/content/train'\n",
        "test_dir = '/content/val'\n",
        "testing_dir = '/content/test'\n",
        "input_shape = (image_size, image_size, 3)"
      ],
      "execution_count": null,
      "outputs": []
    },
    {
      "cell_type": "markdown",
      "metadata": {
        "id": "OcudjcroS-QY"
      },
      "source": [
        "Create image data generator for train data"
      ]
    },
    {
      "cell_type": "code",
      "metadata": {
        "id": "c2YgG5lHtK7Q"
      },
      "source": [
        "train_datagen = ImageDataGenerator(rescale=1. / 255,\n",
        "                              samplewise_center=True,\n",
        "                              samplewise_std_normalization=True,\n",
        "                              horizontal_flip = True,\n",
        "                              vertical_flip = True,\n",
        "                              height_shift_range= 0.05,\n",
        "                              width_shift_range=0.2,\n",
        "                              rotation_range=5,\n",
        "                              shear_range = 0.1,\n",
        "                              fill_mode = 'reflect',\n",
        "                              zoom_range=0)"
      ],
      "execution_count": null,
      "outputs": []
    },
    {
      "cell_type": "markdown",
      "metadata": {
        "id": "8QLN9jAPtQv_"
      },
      "source": [
        "Check generator"
      ]
    },
    {
      "cell_type": "code",
      "metadata": {
        "id": "SnOJaWgttOG8"
      },
      "source": [
        "import keras.utils as image\n",
        "img_path = '/content/train/Mapao/mapao_1.jpg'\n",
        "img = image.load_img(img_path, target_size=(image_size, image_size))\n",
        "x = image.img_to_array(img)\n",
        "x = x.reshape((1,) + x.shape)\n",
        "i = 0\n",
        "for batch in train_datagen.flow(x, batch_size=1):\n",
        "    plt.figure(i)\n",
        "    imgplot = plt.imshow(image.array_to_img(batch[0]))\n",
        "    i += 1\n",
        "    if i % 6 == 0:\n",
        "        break\n",
        "plt.show()"
      ],
      "execution_count": null,
      "outputs": []
    },
    {
      "cell_type": "markdown",
      "metadata": {
        "id": "7T_Sg3IotdcQ"
      },
      "source": [
        "Setting train generator"
      ]
    },
    {
      "cell_type": "code",
      "metadata": {
        "id": "FcJO5RMotZbR",
        "colab": {
          "base_uri": "https://localhost:8080/"
        },
        "outputId": "fd44e65d-5f87-413f-d18c-1f07624d039a"
      },
      "source": [
        "train_generator = train_datagen.flow_from_directory(\n",
        "    train_dir,\n",
        "    target_size=(image_size, image_size),\n",
        "    batch_size=batch_size,\n",
        "    class_mode='categorical')"
      ],
      "execution_count": null,
      "outputs": [
        {
          "output_type": "stream",
          "name": "stdout",
          "text": [
            "Found 2729 images belonging to 7 classes.\n"
          ]
        }
      ]
    },
    {
      "cell_type": "code",
      "metadata": {
        "id": "-S81DZFhAZ_a",
        "colab": {
          "base_uri": "https://localhost:8080/"
        },
        "outputId": "7b77048a-90ba-4c76-9ad1-4070f63e7db2"
      },
      "source": [
        "test_datagen = ImageDataGenerator(rescale=1. / 255)\n",
        "\n",
        "test_generator = test_datagen.flow_from_directory(\n",
        "    test_dir,\n",
        "    target_size=(image_size, image_size),\n",
        "    batch_size=batch_size,\n",
        "    class_mode='categorical')"
      ],
      "execution_count": null,
      "outputs": [
        {
          "output_type": "stream",
          "name": "stdout",
          "text": [
            "Found 245 images belonging to 7 classes.\n"
          ]
        }
      ]
    },
    {
      "cell_type": "markdown",
      "metadata": {
        "id": "Efx6MU_74P9y"
      },
      "source": [
        "Setting tesing generator without data augmentation"
      ]
    },
    {
      "cell_type": "code",
      "metadata": {
        "id": "i6AJvcb14QXj",
        "colab": {
          "base_uri": "https://localhost:8080/"
        },
        "outputId": "4c5183e0-bfc4-4b17-dee0-2128c8e14f7d"
      },
      "source": [
        "testing_datagen = ImageDataGenerator(rescale=1. / 255)\n",
        "\n",
        "testing_generator = testing_datagen.flow_from_directory(\n",
        "    testing_dir,\n",
        "    target_size=(image_size, image_size),\n",
        "    batch_size=batch_size,\n",
        "    shuffle=False,\n",
        "    class_mode='categorical')"
      ],
      "execution_count": null,
      "outputs": [
        {
          "output_type": "stream",
          "name": "stdout",
          "text": [
            "Found 210 images belonging to 7 classes.\n"
          ]
        }
      ]
    },
    {
      "cell_type": "code",
      "metadata": {
        "id": "hrdpTxphtyfF"
      },
      "source": [
        "train_generator.class_indices"
      ],
      "execution_count": null,
      "outputs": []
    },
    {
      "cell_type": "code",
      "source": [
        "from keras.applications import MobileNet\n",
        "pretrained_model = tf.keras.applications.MobileNetV2(weights=\"imagenet\", input_shape=(image_size, image_size, 3), include_top=False)\n"
      ],
      "metadata": {
        "id": "41CIWyvnuX76",
        "colab": {
          "base_uri": "https://localhost:8080/"
        },
        "outputId": "7f83231f-947e-4380-f128-bb28ef992537"
      },
      "execution_count": null,
      "outputs": [
        {
          "output_type": "stream",
          "name": "stdout",
          "text": [
            "Downloading data from https://storage.googleapis.com/tensorflow/keras-applications/mobilenet_v2/mobilenet_v2_weights_tf_dim_ordering_tf_kernels_1.0_224_no_top.h5\n",
            "9406464/9406464 [==============================] - 1s 0us/step\n"
          ]
        }
      ]
    },
    {
      "cell_type": "code",
      "source": [
        "pretrained_model.trainable = False\n",
        "pretrained_model.summary()"
      ],
      "metadata": {
        "id": "GhEAp6j7uX_O"
      },
      "execution_count": null,
      "outputs": []
    },
    {
      "cell_type": "code",
      "source": [
        "x = pretrained_model.output\n",
        "x = GlobalAveragePooling2D()(x)\n",
        "x = Dense(1024)(x)\n",
        "x = BatchNormalization()(x)\n",
        "x = Activation('relu')(x)\n",
        "x = Dropout(0.5)(x)\n",
        "x = Dense(526)(x)\n",
        "x = Activation('relu')(x)\n",
        "predictions = Dense(7, activation='softmax')(x)\n",
        "model = Model(inputs=pretrained_model.input, outputs=predictions)"
      ],
      "metadata": {
        "id": "tX4L9pxBuYCg"
      },
      "execution_count": null,
      "outputs": []
    },
    {
      "cell_type": "code",
      "source": [
        "model.compile(loss='categorical_crossentropy',\n",
        "              optimizer='adam',\n",
        "              metrics=['accuracy'])\n",
        "\n",
        "filepath=\"mobilenetv2.h5\"\n",
        "checkpoint = ModelCheckpoint(filepath, monitor='val_loss', verbose=2,\n",
        "                             save_best_only=True, mode='min')\n",
        "learning_rate_reduction = ReduceLROnPlateau(monitor='val_accuracy',\n",
        "                                            patience=10,\n",
        "                                            verbose=1,\n",
        "                                            factor=0.5,\n",
        "                                            min_lr=0.0001)\n",
        "callbacks_list = [checkpoint, learning_rate_reduction]\n",
        "\n",
        "steps_per_epoch = 32\n",
        "history = model.fit(\n",
        "    train_generator,\n",
        "\n",
        "    validation_data=test_generator,\n",
        "\n",
        "    callbacks=callbacks_list,\n",
        "    epochs=15,\n",
        "    verbose=2)"
      ],
      "metadata": {
        "id": "pxyzdigPuYHK",
        "colab": {
          "base_uri": "https://localhost:8080/"
        },
        "outputId": "6dd38d74-82f9-4581-83f9-2a665d9a0df2"
      },
      "execution_count": null,
      "outputs": [
        {
          "output_type": "stream",
          "name": "stdout",
          "text": [
            "Epoch 1/15\n",
            "\n",
            "Epoch 1: val_loss improved from inf to 0.72722, saving model to mobilenetv2.h5\n",
            "86/86 - 75s - loss: 0.6020 - accuracy: 0.7911 - val_loss: 0.7272 - val_accuracy: 0.7796 - lr: 0.0010 - 75s/epoch - 874ms/step\n",
            "Epoch 2/15\n",
            "\n",
            "Epoch 2: val_loss did not improve from 0.72722\n",
            "86/86 - 61s - loss: 0.2448 - accuracy: 0.9135 - val_loss: 0.7360 - val_accuracy: 0.7837 - lr: 0.0010 - 61s/epoch - 708ms/step\n",
            "Epoch 3/15\n",
            "\n",
            "Epoch 3: val_loss improved from 0.72722 to 0.69739, saving model to mobilenetv2.h5\n",
            "86/86 - 64s - loss: 0.1621 - accuracy: 0.9465 - val_loss: 0.6974 - val_accuracy: 0.8163 - lr: 0.0010 - 64s/epoch - 739ms/step\n",
            "Epoch 4/15\n",
            "\n",
            "Epoch 4: val_loss improved from 0.69739 to 0.45861, saving model to mobilenetv2.h5\n",
            "86/86 - 62s - loss: 0.1300 - accuracy: 0.9527 - val_loss: 0.4586 - val_accuracy: 0.8694 - lr: 0.0010 - 62s/epoch - 719ms/step\n",
            "Epoch 5/15\n",
            "\n",
            "Epoch 5: val_loss did not improve from 0.45861\n",
            "86/86 - 61s - loss: 0.1410 - accuracy: 0.9513 - val_loss: 0.5056 - val_accuracy: 0.8571 - lr: 0.0010 - 61s/epoch - 709ms/step\n",
            "Epoch 6/15\n",
            "\n",
            "Epoch 6: val_loss did not improve from 0.45861\n",
            "86/86 - 64s - loss: 0.1206 - accuracy: 0.9579 - val_loss: 0.6335 - val_accuracy: 0.8367 - lr: 0.0010 - 64s/epoch - 745ms/step\n",
            "Epoch 7/15\n",
            "\n",
            "Epoch 7: val_loss did not improve from 0.45861\n",
            "86/86 - 61s - loss: 0.1039 - accuracy: 0.9634 - val_loss: 0.7115 - val_accuracy: 0.7959 - lr: 0.0010 - 61s/epoch - 709ms/step\n",
            "Epoch 8/15\n",
            "\n",
            "Epoch 8: val_loss did not improve from 0.45861\n",
            "86/86 - 62s - loss: 0.0790 - accuracy: 0.9722 - val_loss: 0.7831 - val_accuracy: 0.8327 - lr: 0.0010 - 62s/epoch - 726ms/step\n",
            "Epoch 9/15\n",
            "\n",
            "Epoch 9: val_loss did not improve from 0.45861\n",
            "86/86 - 61s - loss: 0.0798 - accuracy: 0.9740 - val_loss: 0.7192 - val_accuracy: 0.8286 - lr: 0.0010 - 61s/epoch - 713ms/step\n",
            "Epoch 10/15\n",
            "\n",
            "Epoch 10: val_loss did not improve from 0.45861\n",
            "86/86 - 62s - loss: 0.0865 - accuracy: 0.9718 - val_loss: 0.6017 - val_accuracy: 0.8286 - lr: 0.0010 - 62s/epoch - 715ms/step\n",
            "Epoch 11/15\n",
            "\n",
            "Epoch 11: val_loss did not improve from 0.45861\n",
            "86/86 - 61s - loss: 0.0832 - accuracy: 0.9743 - val_loss: 0.5300 - val_accuracy: 0.8531 - lr: 0.0010 - 61s/epoch - 713ms/step\n",
            "Epoch 12/15\n",
            "\n",
            "Epoch 12: val_loss improved from 0.45861 to 0.38257, saving model to mobilenetv2.h5\n",
            "86/86 - 62s - loss: 0.0763 - accuracy: 0.9736 - val_loss: 0.3826 - val_accuracy: 0.8735 - lr: 0.0010 - 62s/epoch - 719ms/step\n",
            "Epoch 13/15\n",
            "\n",
            "Epoch 13: val_loss did not improve from 0.38257\n",
            "86/86 - 62s - loss: 0.0547 - accuracy: 0.9809 - val_loss: 0.5519 - val_accuracy: 0.8327 - lr: 0.0010 - 62s/epoch - 716ms/step\n",
            "Epoch 14/15\n",
            "\n",
            "Epoch 14: val_loss did not improve from 0.38257\n",
            "86/86 - 61s - loss: 0.0525 - accuracy: 0.9809 - val_loss: 0.6139 - val_accuracy: 0.8408 - lr: 0.0010 - 61s/epoch - 706ms/step\n",
            "Epoch 15/15\n",
            "\n",
            "Epoch 15: val_loss did not improve from 0.38257\n",
            "86/86 - 61s - loss: 0.0566 - accuracy: 0.9828 - val_loss: 0.6273 - val_accuracy: 0.8571 - lr: 0.0010 - 61s/epoch - 706ms/step\n"
          ]
        }
      ]
    },
    {
      "cell_type": "code",
      "source": [
        "test_score = model.evaluate_generator(testing_generator, batch_size)\n",
        "\n",
        "print(\"[INFO] accuracy: {:.2f}%\".format(test_score[1] * 100))\n",
        "print(\"[INFO] Loss: \",test_score[0])"
      ],
      "metadata": {
        "id": "4COlOZpAwKt6",
        "colab": {
          "base_uri": "https://localhost:8080/"
        },
        "outputId": "287488ae-ff34-41cb-e036-de3f6008999f"
      },
      "execution_count": null,
      "outputs": [
        {
          "output_type": "stream",
          "name": "stderr",
          "text": [
            "<ipython-input-19-988243f5b692>:1: UserWarning: `Model.evaluate_generator` is deprecated and will be removed in a future version. Please use `Model.evaluate`, which supports generators.\n",
            "  test_score = model.evaluate_generator(testing_generator, batch_size)\n",
            "WARNING:tensorflow:Your input ran out of data; interrupting training. Make sure that your dataset or generator can generate at least `steps_per_epoch * epochs` batches (in this case, 32 batches). You may need to use the repeat() function when building your dataset.\n"
          ]
        },
        {
          "output_type": "stream",
          "name": "stdout",
          "text": [
            "[INFO] accuracy: 81.90%\n",
            "[INFO] Loss:  0.6243096590042114\n"
          ]
        }
      ]
    },
    {
      "cell_type": "code",
      "source": [
        "train_score = model.evaluate_generator(train_generator, batch_size)\n",
        "\n",
        "print(\"Train accuracy: {:.2f}%\".format(train_score[1] * 100))"
      ],
      "metadata": {
        "colab": {
          "base_uri": "https://localhost:8080/"
        },
        "id": "t3JSl1pIz-dB",
        "outputId": "91361ae3-86f9-4832-e3be-0d2b168e9040"
      },
      "execution_count": null,
      "outputs": [
        {
          "output_type": "stream",
          "name": "stderr",
          "text": [
            "<ipython-input-20-4b5641dba7d0>:1: UserWarning: `Model.evaluate_generator` is deprecated and will be removed in a future version. Please use `Model.evaluate`, which supports generators.\n",
            "  train_score = model.evaluate_generator(train_generator, batch_size)\n"
          ]
        },
        {
          "output_type": "stream",
          "name": "stdout",
          "text": [
            "Train accuracy: 99.71%\n"
          ]
        }
      ]
    },
    {
      "cell_type": "markdown",
      "metadata": {
        "id": "SrbkH-WYWXon"
      },
      "source": [
        "confusion matrix format"
      ]
    },
    {
      "cell_type": "code",
      "metadata": {
        "id": "B7XsVmQ3Wcdq",
        "colab": {
          "base_uri": "https://localhost:8080/",
          "height": 1000
        },
        "outputId": "ee3d7829-36b2-43ce-8da8-e9080c455b4b"
      },
      "source": [
        "#Plot the confusion matrix. Set Normalize = True/False\n",
        "\n",
        "def plot_confusion_matrix(cm, classes, normalize=True, title='Confusion matrix', cmap=plt.cm.Blues):\n",
        "    \"\"\"\n",
        "    This function prints and plots the confusion matrix.\n",
        "    Normalization can be applied by setting `normalize=True`.\n",
        "    \"\"\"\n",
        "    plt.figure(figsize=(7,7))\n",
        "\n",
        "    plt.imshow(cm, interpolation='nearest', cmap=cmap)\n",
        "    plt.title(title)\n",
        "    plt.colorbar()\n",
        "\n",
        "    tick_marks = np.arange(len(classes))\n",
        "    plt.xticks(tick_marks, classes, rotation=45)\n",
        "    plt.yticks(tick_marks, classes)\n",
        "\n",
        "    if normalize:\n",
        "        cm = cm.astype('float') / cm.sum(axis=1)[:, np.newaxis]\n",
        "        cm = np.around(cm, decimals=2)\n",
        "        cm[np.isnan(cm)] = 0.0\n",
        "        print(\"Normalized confusion matrix\")\n",
        "    else:\n",
        "        print('Confusion matrix, without normalization')\n",
        "    thresh = cm.max() / 2.\n",
        "    for i, j in itertools.product(range(cm.shape[0]), range(cm.shape[1])):\n",
        "        plt.text(j, i, cm[i, j],\n",
        "                 horizontalalignment=\"center\",\n",
        "                 color=\"white\" if cm[i, j] > thresh else \"black\")\n",
        "    plt.tight_layout()\n",
        "    plt.ylabel('True label')\n",
        "    plt.xlabel('Predicted label')\n",
        "\n",
        "#Print the Target names\n",
        "from sklearn.metrics import classification_report, confusion_matrix\n",
        "import itertools\n",
        "#shuffle=False\n",
        "\n",
        "target_names = []\n",
        "for key in train_generator.class_indices:\n",
        "    target_names.append(key)\n",
        "\n",
        "# print(target_names)\n",
        "\n",
        "#Confution Matrix\n",
        "\n",
        "Y_pred = model.predict_generator(testing_generator)\n",
        "y_pred = np.argmax(Y_pred, axis=1)\n",
        "print('Confusion Matrix')\n",
        "cm = confusion_matrix(testing_generator.classes, y_pred)\n",
        "plot_confusion_matrix(cm, target_names, title='Confusion Matrix')\n",
        "\n",
        "#Print Classification Report\n",
        "print('Classification Report')\n",
        "print(classification_report(testing_generator.classes, y_pred, target_names=target_names))"
      ],
      "execution_count": null,
      "outputs": [
        {
          "output_type": "stream",
          "name": "stderr",
          "text": [
            "<ipython-input-22-afd495c66ad9>:47: UserWarning: `Model.predict_generator` is deprecated and will be removed in a future version. Please use `Model.predict`, which supports generators.\n",
            "  Y_pred = model.predict_generator(testing_generator)\n"
          ]
        },
        {
          "output_type": "stream",
          "name": "stdout",
          "text": [
            "Confusion Matrix\n",
            "Normalized confusion matrix\n",
            "Classification Report\n",
            "              precision    recall  f1-score   support\n",
            "\n",
            "        Aang       0.68      0.93      0.79        30\n",
            "        Haow       0.73      0.73      0.73        30\n",
            "        Laam       0.87      0.90      0.89        30\n",
            "       Leuam       0.74      0.93      0.82        30\n",
            "       Mapao       0.92      0.73      0.81        30\n",
            "        Sing       0.96      0.73      0.83        30\n",
            "       Thong       1.00      0.77      0.87        30\n",
            "\n",
            "    accuracy                           0.82       210\n",
            "   macro avg       0.84      0.82      0.82       210\n",
            "weighted avg       0.84      0.82      0.82       210\n",
            "\n"
          ]
        },
        {
          "output_type": "display_data",
          "data": {
            "text/plain": [
              "<Figure size 700x700 with 2 Axes>"
            ],
            "image/png": "[encoded data removed]"
          },
          "metadata": {}
        }
      ]
    }
  ]
}